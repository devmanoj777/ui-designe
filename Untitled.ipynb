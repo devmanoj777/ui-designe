{
 "cells": [
  {
   "cell_type": "code",
   "execution_count": 29,
   "id": "3431acf0",
   "metadata": {},
   "outputs": [],
   "source": [
    "import tkinter as tk \n",
    "from tkinter import ttk\n",
    "\n",
    "window=tk.Tk()\n",
    "window.title(\"dev app\")\n",
    "window.geometry('400x400')\n",
    "window.resizable(True,True)\n",
    "window.attributes('-topmost',1)\n",
    "window.iconbitmap('./dev_to_icon_130961(1).ico')\n",
    "massege=tk.Label(window,text=\"heko world\").pack()\n",
    "massege2=ttk.Label(window,text='helo world').pack()\n",
    "\n",
    "\n",
    "window.mainloop()"
   ]
  },
  {
   "cell_type": "code",
   "execution_count": null,
   "id": "d797accb",
   "metadata": {},
   "outputs": [],
   "source": []
  },
  {
   "cell_type": "code",
   "execution_count": 9,
   "id": "dc9fbe0d",
   "metadata": {},
   "outputs": [],
   "source": []
  },
  {
   "cell_type": "code",
   "execution_count": null,
   "id": "2e372dc5",
   "metadata": {},
   "outputs": [],
   "source": []
  }
 ],
 "metadata": {
  "kernelspec": {
   "display_name": "Python 3 (ipykernel)",
   "language": "python",
   "name": "python3"
  },
  "language_info": {
   "codemirror_mode": {
    "name": "ipython",
    "version": 3
   },
   "file_extension": ".py",
   "mimetype": "text/x-python",
   "name": "python",
   "nbconvert_exporter": "python",
   "pygments_lexer": "ipython3",
   "version": "3.9.13"
  }
 },
 "nbformat": 4,
 "nbformat_minor": 5
}
